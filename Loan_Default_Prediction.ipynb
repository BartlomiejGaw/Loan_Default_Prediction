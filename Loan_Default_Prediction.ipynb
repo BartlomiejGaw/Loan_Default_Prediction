{
 "cells": [
  {
   "cell_type": "code",
   "execution_count": 1,
   "metadata": {
    "id": "soeCb1T5i1ng"
   },
   "outputs": [],
   "source": [
    "import numpy as np\n",
    "import pandas as pd\n",
    "import seaborn as sns\n",
    "import scorecardpy as sc\n",
    "import seaborn as sns\n",
    "import matplotlib.pyplot as plt\n",
    "import xgboost as xgb\n",
    "from sklearn.metrics import confusion_matrix, accuracy_score\n",
    "from sklearn.preprocessing import OneHotEncoder, RobustScaler\n",
    "from sklearn.model_selection import train_test_split\n",
    "from sklearn.model_selection import GridSearchCV\n",
    "from sklearn.linear_model import LogisticRegression\n",
    "from sklearn.tree import DecisionTreeClassifier\n",
    "from sklearn.ensemble import RandomForestClassifier\n"
   ]
  },
  {
   "cell_type": "code",
   "execution_count": 2,
   "metadata": {
    "id": "l9UVd8N7i1nj"
   },
   "outputs": [],
   "source": [
    "df = pd.read_csv('Loan_Default_imputed.csv')"
   ]
  },
  {
   "cell_type": "code",
   "execution_count": 3,
   "metadata": {
    "id": "CQIvcqORi1nk"
   },
   "outputs": [],
   "source": [
    "df.Status = df.Status.astype(int)"
   ]
  },
  {
   "cell_type": "markdown",
   "metadata": {
    "id": "LrmrvPWWi1nk"
   },
   "source": [
    "Weight of Evidence (WOE) And Information Value (IV) will be used to select features usefull for classification"
   ]
  },
  {
   "cell_type": "code",
   "execution_count": 4,
   "metadata": {
    "id": "6DDRxWmci1nl"
   },
   "outputs": [],
   "source": [
    "import warnings\n",
    "warnings.filterwarnings('ignore')"
   ]
  },
  {
   "cell_type": "code",
   "execution_count": 5,
   "metadata": {
    "colab": {
     "base_uri": "https://localhost:8080/"
    },
    "id": "k5zCaBrji1nm",
    "outputId": "bb72be7d-079a-4e6c-db51-67a81836929f"
   },
   "outputs": [
    {
     "name": "stdout",
     "output_type": "stream",
     "text": [
      "[INFO] creating woe binning ...\n",
      "Binning on 143942 rows and 31 columns in 00:00:27\n"
     ]
    }
   ],
   "source": [
    "bins = sc.woebin(df, y='Status')"
   ]
  },
  {
   "cell_type": "code",
   "execution_count": 6,
   "metadata": {
    "colab": {
     "base_uri": "https://localhost:8080/"
    },
    "id": "4_a3jGI9i1nn",
    "outputId": "a7e486e5-2990-41d2-c745-c30a9a5badba"
   },
   "outputs": [
    {
     "name": "stdout",
     "output_type": "stream",
     "text": [
      "[INFO] converting into woe values ...\n",
      "Woe transformating on 143942 rows and 30 columns in 00:00:13\n"
     ]
    }
   ],
   "source": [
    "df_woe = sc.woebin_ply(df, bins)"
   ]
  },
  {
   "cell_type": "code",
   "execution_count": 7,
   "metadata": {
    "id": "JwsiXLo-i1no"
   },
   "outputs": [],
   "source": [
    "iv_values = {col: bin_df['total_iv'].iloc[0] for col, bin_df in bins.items()}\n",
    "iv_df = pd.DataFrame(list(iv_values.items()), columns=['Variable', 'IV'])\n"
   ]
  },
  {
   "cell_type": "code",
   "execution_count": 8,
   "metadata": {
    "colab": {
     "base_uri": "https://localhost:8080/",
     "height": 990
    },
    "id": "kv9Lk2ldi1no",
    "outputId": "2b48196f-91d2-41b0-806c-abfd80370771"
   },
   "outputs": [
    {
     "data": {
      "text/html": [
       "<div>\n",
       "<style scoped>\n",
       "    .dataframe tbody tr th:only-of-type {\n",
       "        vertical-align: middle;\n",
       "    }\n",
       "\n",
       "    .dataframe tbody tr th {\n",
       "        vertical-align: top;\n",
       "    }\n",
       "\n",
       "    .dataframe thead th {\n",
       "        text-align: right;\n",
       "    }\n",
       "</style>\n",
       "<table border=\"1\" class=\"dataframe\">\n",
       "  <thead>\n",
       "    <tr style=\"text-align: right;\">\n",
       "      <th></th>\n",
       "      <th>Variable</th>\n",
       "      <th>IV</th>\n",
       "    </tr>\n",
       "  </thead>\n",
       "  <tbody>\n",
       "    <tr>\n",
       "      <th>22</th>\n",
       "      <td>credit_type</td>\n",
       "      <td>4.657177</td>\n",
       "    </tr>\n",
       "    <tr>\n",
       "      <th>19</th>\n",
       "      <td>rate_of_interest</td>\n",
       "      <td>0.619766</td>\n",
       "    </tr>\n",
       "    <tr>\n",
       "      <th>7</th>\n",
       "      <td>Interest_rate_spread</td>\n",
       "      <td>0.231496</td>\n",
       "    </tr>\n",
       "    <tr>\n",
       "      <th>13</th>\n",
       "      <td>income</td>\n",
       "      <td>0.154297</td>\n",
       "    </tr>\n",
       "    <tr>\n",
       "      <th>20</th>\n",
       "      <td>dtir1</td>\n",
       "      <td>0.141857</td>\n",
       "    </tr>\n",
       "    <tr>\n",
       "      <th>6</th>\n",
       "      <td>co-applicant_credit_type</td>\n",
       "      <td>0.110648</td>\n",
       "    </tr>\n",
       "    <tr>\n",
       "      <th>1</th>\n",
       "      <td>submission_of_application</td>\n",
       "      <td>0.084715</td>\n",
       "    </tr>\n",
       "    <tr>\n",
       "      <th>24</th>\n",
       "      <td>Neg_ammortization</td>\n",
       "      <td>0.083731</td>\n",
       "    </tr>\n",
       "    <tr>\n",
       "      <th>8</th>\n",
       "      <td>LTV</td>\n",
       "      <td>0.062206</td>\n",
       "    </tr>\n",
       "    <tr>\n",
       "      <th>11</th>\n",
       "      <td>loan_amount</td>\n",
       "      <td>0.040660</td>\n",
       "    </tr>\n",
       "    <tr>\n",
       "      <th>25</th>\n",
       "      <td>loan_type</td>\n",
       "      <td>0.040646</td>\n",
       "    </tr>\n",
       "    <tr>\n",
       "      <th>18</th>\n",
       "      <td>business_or_commercial</td>\n",
       "      <td>0.039337</td>\n",
       "    </tr>\n",
       "    <tr>\n",
       "      <th>27</th>\n",
       "      <td>property_value</td>\n",
       "      <td>0.038482</td>\n",
       "    </tr>\n",
       "    <tr>\n",
       "      <th>5</th>\n",
       "      <td>Gender</td>\n",
       "      <td>0.037841</td>\n",
       "    </tr>\n",
       "    <tr>\n",
       "      <th>21</th>\n",
       "      <td>age</td>\n",
       "      <td>0.013509</td>\n",
       "    </tr>\n",
       "    <tr>\n",
       "      <th>29</th>\n",
       "      <td>Region</td>\n",
       "      <td>0.012654</td>\n",
       "    </tr>\n",
       "    <tr>\n",
       "      <th>17</th>\n",
       "      <td>loan_limit</td>\n",
       "      <td>0.011005</td>\n",
       "    </tr>\n",
       "    <tr>\n",
       "      <th>15</th>\n",
       "      <td>term</td>\n",
       "      <td>0.010330</td>\n",
       "    </tr>\n",
       "    <tr>\n",
       "      <th>4</th>\n",
       "      <td>approv_in_adv</td>\n",
       "      <td>0.007002</td>\n",
       "    </tr>\n",
       "    <tr>\n",
       "      <th>9</th>\n",
       "      <td>loan_purpose</td>\n",
       "      <td>0.005465</td>\n",
       "    </tr>\n",
       "    <tr>\n",
       "      <th>14</th>\n",
       "      <td>occupancy_type</td>\n",
       "      <td>0.004477</td>\n",
       "    </tr>\n",
       "    <tr>\n",
       "      <th>23</th>\n",
       "      <td>Credit_Score</td>\n",
       "      <td>0.000549</td>\n",
       "    </tr>\n",
       "    <tr>\n",
       "      <th>16</th>\n",
       "      <td>construction_type</td>\n",
       "      <td>0.000000</td>\n",
       "    </tr>\n",
       "    <tr>\n",
       "      <th>12</th>\n",
       "      <td>interest_only</td>\n",
       "      <td>0.000000</td>\n",
       "    </tr>\n",
       "    <tr>\n",
       "      <th>10</th>\n",
       "      <td>lump_sum_payment</td>\n",
       "      <td>0.000000</td>\n",
       "    </tr>\n",
       "    <tr>\n",
       "      <th>3</th>\n",
       "      <td>total_units</td>\n",
       "      <td>0.000000</td>\n",
       "    </tr>\n",
       "    <tr>\n",
       "      <th>26</th>\n",
       "      <td>Secured_by</td>\n",
       "      <td>0.000000</td>\n",
       "    </tr>\n",
       "    <tr>\n",
       "      <th>2</th>\n",
       "      <td>Credit_Worthiness</td>\n",
       "      <td>0.000000</td>\n",
       "    </tr>\n",
       "    <tr>\n",
       "      <th>28</th>\n",
       "      <td>open_credit</td>\n",
       "      <td>0.000000</td>\n",
       "    </tr>\n",
       "    <tr>\n",
       "      <th>0</th>\n",
       "      <td>Security_Type</td>\n",
       "      <td>0.000000</td>\n",
       "    </tr>\n",
       "  </tbody>\n",
       "</table>\n",
       "</div>"
      ],
      "text/plain": [
       "                     Variable        IV\n",
       "22                credit_type  4.657177\n",
       "19           rate_of_interest  0.619766\n",
       "7        Interest_rate_spread  0.231496\n",
       "13                     income  0.154297\n",
       "20                      dtir1  0.141857\n",
       "6    co-applicant_credit_type  0.110648\n",
       "1   submission_of_application  0.084715\n",
       "24          Neg_ammortization  0.083731\n",
       "8                         LTV  0.062206\n",
       "11                loan_amount  0.040660\n",
       "25                  loan_type  0.040646\n",
       "18     business_or_commercial  0.039337\n",
       "27             property_value  0.038482\n",
       "5                      Gender  0.037841\n",
       "21                        age  0.013509\n",
       "29                     Region  0.012654\n",
       "17                 loan_limit  0.011005\n",
       "15                       term  0.010330\n",
       "4               approv_in_adv  0.007002\n",
       "9                loan_purpose  0.005465\n",
       "14             occupancy_type  0.004477\n",
       "23               Credit_Score  0.000549\n",
       "16          construction_type  0.000000\n",
       "12              interest_only  0.000000\n",
       "10           lump_sum_payment  0.000000\n",
       "3                 total_units  0.000000\n",
       "26                 Secured_by  0.000000\n",
       "2           Credit_Worthiness  0.000000\n",
       "28                open_credit  0.000000\n",
       "0               Security_Type  0.000000"
      ]
     },
     "execution_count": 8,
     "metadata": {},
     "output_type": "execute_result"
    }
   ],
   "source": [
    "iv_df.sort_values(by='IV', ascending=False)"
   ]
  },
  {
   "cell_type": "code",
   "execution_count": 9,
   "metadata": {
    "id": "NUzllOBFi1no"
   },
   "outputs": [],
   "source": [
    "features=iv_df[iv_df['IV']>=0.03]['Variable'].to_list()"
   ]
  },
  {
   "cell_type": "markdown",
   "metadata": {
    "id": "Q5vAEkv_i1np"
   },
   "source": [
    "After calculating IV, we conclude that the features 'business_or_commercial', 'rate_of_interest', 'Gender', 'loan_type', 'income', 'Neg_ammortization', 'dtir1', 'credit_type', 'property_value','Interest_rate_spread', 'LTV', 'loan_amount', 'submission_of_application', 'co-applicant_credit_type', 'Upfront_charges' have sufficient predictive power (IV>=0.03) and would be used to train models."
   ]
  },
  {
   "cell_type": "code",
   "execution_count": 10,
   "metadata": {
    "id": "KymF71DGi1np"
   },
   "outputs": [],
   "source": [
    "features.append('Status')"
   ]
  },
  {
   "cell_type": "code",
   "execution_count": 11,
   "metadata": {
    "colab": {
     "base_uri": "https://localhost:8080/",
     "height": 261
    },
    "id": "Op2mto9Ci1np",
    "outputId": "957566c0-e30d-4221-d859-29b30408458a"
   },
   "outputs": [
    {
     "data": {
      "text/html": [
       "<div>\n",
       "<style scoped>\n",
       "    .dataframe tbody tr th:only-of-type {\n",
       "        vertical-align: middle;\n",
       "    }\n",
       "\n",
       "    .dataframe tbody tr th {\n",
       "        vertical-align: top;\n",
       "    }\n",
       "\n",
       "    .dataframe thead th {\n",
       "        text-align: right;\n",
       "    }\n",
       "</style>\n",
       "<table border=\"1\" class=\"dataframe\">\n",
       "  <thead>\n",
       "    <tr style=\"text-align: right;\">\n",
       "      <th></th>\n",
       "      <th>submission_of_application</th>\n",
       "      <th>Gender</th>\n",
       "      <th>co-applicant_credit_type</th>\n",
       "      <th>Interest_rate_spread</th>\n",
       "      <th>LTV</th>\n",
       "      <th>loan_amount</th>\n",
       "      <th>income</th>\n",
       "      <th>business_or_commercial</th>\n",
       "      <th>rate_of_interest</th>\n",
       "      <th>dtir1</th>\n",
       "      <th>credit_type</th>\n",
       "      <th>Neg_ammortization</th>\n",
       "      <th>loan_type</th>\n",
       "      <th>property_value</th>\n",
       "      <th>Status</th>\n",
       "    </tr>\n",
       "  </thead>\n",
       "  <tbody>\n",
       "    <tr>\n",
       "      <th>0</th>\n",
       "      <td>to_inst</td>\n",
       "      <td>Sex Not Available</td>\n",
       "      <td>CIB</td>\n",
       "      <td>0.522692</td>\n",
       "      <td>98.728814</td>\n",
       "      <td>116500.0</td>\n",
       "      <td>1740.0</td>\n",
       "      <td>nob/c</td>\n",
       "      <td>4.199231</td>\n",
       "      <td>45.000000</td>\n",
       "      <td>EXP</td>\n",
       "      <td>not_neg</td>\n",
       "      <td>type1</td>\n",
       "      <td>118000.000000</td>\n",
       "      <td>1</td>\n",
       "    </tr>\n",
       "    <tr>\n",
       "      <th>1</th>\n",
       "      <td>to_inst</td>\n",
       "      <td>Male</td>\n",
       "      <td>EXP</td>\n",
       "      <td>1.006962</td>\n",
       "      <td>87.282005</td>\n",
       "      <td>206500.0</td>\n",
       "      <td>4980.0</td>\n",
       "      <td>b/c</td>\n",
       "      <td>3.940000</td>\n",
       "      <td>43.615385</td>\n",
       "      <td>EQUI</td>\n",
       "      <td>not_neg</td>\n",
       "      <td>type2</td>\n",
       "      <td>228769.230769</td>\n",
       "      <td>1</td>\n",
       "    </tr>\n",
       "    <tr>\n",
       "      <th>2</th>\n",
       "      <td>to_inst</td>\n",
       "      <td>Male</td>\n",
       "      <td>CIB</td>\n",
       "      <td>0.200000</td>\n",
       "      <td>80.019685</td>\n",
       "      <td>406500.0</td>\n",
       "      <td>9480.0</td>\n",
       "      <td>nob/c</td>\n",
       "      <td>4.560000</td>\n",
       "      <td>46.000000</td>\n",
       "      <td>EXP</td>\n",
       "      <td>neg_amm</td>\n",
       "      <td>type1</td>\n",
       "      <td>508000.000000</td>\n",
       "      <td>0</td>\n",
       "    </tr>\n",
       "    <tr>\n",
       "      <th>3</th>\n",
       "      <td>not_inst</td>\n",
       "      <td>Male</td>\n",
       "      <td>CIB</td>\n",
       "      <td>0.681000</td>\n",
       "      <td>69.376900</td>\n",
       "      <td>456500.0</td>\n",
       "      <td>11880.0</td>\n",
       "      <td>nob/c</td>\n",
       "      <td>4.250000</td>\n",
       "      <td>42.000000</td>\n",
       "      <td>EXP</td>\n",
       "      <td>not_neg</td>\n",
       "      <td>type1</td>\n",
       "      <td>658000.000000</td>\n",
       "      <td>0</td>\n",
       "    </tr>\n",
       "    <tr>\n",
       "      <th>4</th>\n",
       "      <td>not_inst</td>\n",
       "      <td>Joint</td>\n",
       "      <td>EXP</td>\n",
       "      <td>0.304200</td>\n",
       "      <td>91.886544</td>\n",
       "      <td>696500.0</td>\n",
       "      <td>10440.0</td>\n",
       "      <td>nob/c</td>\n",
       "      <td>4.000000</td>\n",
       "      <td>39.000000</td>\n",
       "      <td>CRIF</td>\n",
       "      <td>not_neg</td>\n",
       "      <td>type1</td>\n",
       "      <td>758000.000000</td>\n",
       "      <td>0</td>\n",
       "    </tr>\n",
       "  </tbody>\n",
       "</table>\n",
       "</div>"
      ],
      "text/plain": [
       "  submission_of_application             Gender co-applicant_credit_type  \\\n",
       "0                   to_inst  Sex Not Available                      CIB   \n",
       "1                   to_inst               Male                      EXP   \n",
       "2                   to_inst               Male                      CIB   \n",
       "3                  not_inst               Male                      CIB   \n",
       "4                  not_inst              Joint                      EXP   \n",
       "\n",
       "   Interest_rate_spread        LTV  loan_amount   income  \\\n",
       "0              0.522692  98.728814     116500.0   1740.0   \n",
       "1              1.006962  87.282005     206500.0   4980.0   \n",
       "2              0.200000  80.019685     406500.0   9480.0   \n",
       "3              0.681000  69.376900     456500.0  11880.0   \n",
       "4              0.304200  91.886544     696500.0  10440.0   \n",
       "\n",
       "  business_or_commercial  rate_of_interest      dtir1 credit_type  \\\n",
       "0                  nob/c          4.199231  45.000000         EXP   \n",
       "1                    b/c          3.940000  43.615385        EQUI   \n",
       "2                  nob/c          4.560000  46.000000         EXP   \n",
       "3                  nob/c          4.250000  42.000000         EXP   \n",
       "4                  nob/c          4.000000  39.000000        CRIF   \n",
       "\n",
       "  Neg_ammortization loan_type  property_value  Status  \n",
       "0           not_neg     type1   118000.000000       1  \n",
       "1           not_neg     type2   228769.230769       1  \n",
       "2           neg_amm     type1   508000.000000       0  \n",
       "3           not_neg     type1   658000.000000       0  \n",
       "4           not_neg     type1   758000.000000       0  "
      ]
     },
     "execution_count": 11,
     "metadata": {},
     "output_type": "execute_result"
    }
   ],
   "source": [
    "df_learn = df[features]\n",
    "df_learn.head()"
   ]
  },
  {
   "cell_type": "code",
   "execution_count": 12,
   "metadata": {
    "id": "lr05LrIMi1nq"
   },
   "outputs": [],
   "source": [
    "numerical_columns = df_learn.select_dtypes(include=[np.number]).columns.to_list()\n",
    "categorical_columns = df_learn.select_dtypes(include=['object']).columns.tolist()\n",
    "\n",
    "oh = OneHotEncoder(sparse_output=False, handle_unknown='ignore').set_output(transform='pandas')\n",
    "sc = RobustScaler()\n",
    "encoded = oh.fit_transform(df_learn[categorical_columns])\n",
    "scaled = pd.DataFrame(sc.fit_transform(df_learn[numerical_columns]), columns = numerical_columns)\n",
    "df_enc_scal = pd.concat([encoded, scaled], axis=1)"
   ]
  },
  {
   "cell_type": "code",
   "execution_count": 13,
   "metadata": {
    "colab": {
     "base_uri": "https://localhost:8080/",
     "height": 290
    },
    "id": "FEPdwm_ei1nr",
    "outputId": "bb009a7f-acfa-443c-e575-f3801ab9d1e2"
   },
   "outputs": [
    {
     "data": {
      "text/html": [
       "<div>\n",
       "<style scoped>\n",
       "    .dataframe tbody tr th:only-of-type {\n",
       "        vertical-align: middle;\n",
       "    }\n",
       "\n",
       "    .dataframe tbody tr th {\n",
       "        vertical-align: top;\n",
       "    }\n",
       "\n",
       "    .dataframe thead th {\n",
       "        text-align: right;\n",
       "    }\n",
       "</style>\n",
       "<table border=\"1\" class=\"dataframe\">\n",
       "  <thead>\n",
       "    <tr style=\"text-align: right;\">\n",
       "      <th></th>\n",
       "      <th>submission_of_application_not_inst</th>\n",
       "      <th>submission_of_application_to_inst</th>\n",
       "      <th>Gender_Female</th>\n",
       "      <th>Gender_Joint</th>\n",
       "      <th>Gender_Male</th>\n",
       "      <th>Gender_Sex Not Available</th>\n",
       "      <th>co-applicant_credit_type_CIB</th>\n",
       "      <th>co-applicant_credit_type_EXP</th>\n",
       "      <th>business_or_commercial_b/c</th>\n",
       "      <th>business_or_commercial_nob/c</th>\n",
       "      <th>...</th>\n",
       "      <th>loan_type_type2</th>\n",
       "      <th>loan_type_type3</th>\n",
       "      <th>Interest_rate_spread</th>\n",
       "      <th>LTV</th>\n",
       "      <th>loan_amount</th>\n",
       "      <th>income</th>\n",
       "      <th>rate_of_interest</th>\n",
       "      <th>dtir1</th>\n",
       "      <th>property_value</th>\n",
       "      <th>Status</th>\n",
       "    </tr>\n",
       "  </thead>\n",
       "  <tbody>\n",
       "    <tr>\n",
       "      <th>0</th>\n",
       "      <td>0.0</td>\n",
       "      <td>1.0</td>\n",
       "      <td>0.0</td>\n",
       "      <td>0.0</td>\n",
       "      <td>0.0</td>\n",
       "      <td>1.0</td>\n",
       "      <td>1.0</td>\n",
       "      <td>0.0</td>\n",
       "      <td>0.0</td>\n",
       "      <td>1.0</td>\n",
       "      <td>...</td>\n",
       "      <td>0.0</td>\n",
       "      <td>0.0</td>\n",
       "      <td>0.163920</td>\n",
       "      <td>0.984135</td>\n",
       "      <td>-0.750000</td>\n",
       "      <td>-0.857143</td>\n",
       "      <td>0.318501</td>\n",
       "      <td>0.545455</td>\n",
       "      <td>-0.882353</td>\n",
       "      <td>1.0</td>\n",
       "    </tr>\n",
       "    <tr>\n",
       "      <th>1</th>\n",
       "      <td>0.0</td>\n",
       "      <td>1.0</td>\n",
       "      <td>0.0</td>\n",
       "      <td>0.0</td>\n",
       "      <td>1.0</td>\n",
       "      <td>0.0</td>\n",
       "      <td>0.0</td>\n",
       "      <td>1.0</td>\n",
       "      <td>1.0</td>\n",
       "      <td>0.0</td>\n",
       "      <td>...</td>\n",
       "      <td>1.0</td>\n",
       "      <td>0.0</td>\n",
       "      <td>0.906550</td>\n",
       "      <td>0.506653</td>\n",
       "      <td>-0.375000</td>\n",
       "      <td>-0.155844</td>\n",
       "      <td>-0.076112</td>\n",
       "      <td>0.419580</td>\n",
       "      <td>-0.556561</td>\n",
       "      <td>1.0</td>\n",
       "    </tr>\n",
       "    <tr>\n",
       "      <th>2</th>\n",
       "      <td>0.0</td>\n",
       "      <td>1.0</td>\n",
       "      <td>0.0</td>\n",
       "      <td>0.0</td>\n",
       "      <td>1.0</td>\n",
       "      <td>0.0</td>\n",
       "      <td>1.0</td>\n",
       "      <td>0.0</td>\n",
       "      <td>0.0</td>\n",
       "      <td>1.0</td>\n",
       "      <td>...</td>\n",
       "      <td>0.0</td>\n",
       "      <td>0.0</td>\n",
       "      <td>-0.330931</td>\n",
       "      <td>0.203719</td>\n",
       "      <td>0.458333</td>\n",
       "      <td>0.818182</td>\n",
       "      <td>0.867681</td>\n",
       "      <td>0.636364</td>\n",
       "      <td>0.264706</td>\n",
       "      <td>0.0</td>\n",
       "    </tr>\n",
       "    <tr>\n",
       "      <th>3</th>\n",
       "      <td>1.0</td>\n",
       "      <td>0.0</td>\n",
       "      <td>0.0</td>\n",
       "      <td>0.0</td>\n",
       "      <td>1.0</td>\n",
       "      <td>0.0</td>\n",
       "      <td>1.0</td>\n",
       "      <td>0.0</td>\n",
       "      <td>0.0</td>\n",
       "      <td>1.0</td>\n",
       "      <td>...</td>\n",
       "      <td>0.0</td>\n",
       "      <td>0.0</td>\n",
       "      <td>0.406686</td>\n",
       "      <td>-0.240224</td>\n",
       "      <td>0.666667</td>\n",
       "      <td>1.337662</td>\n",
       "      <td>0.395785</td>\n",
       "      <td>0.272727</td>\n",
       "      <td>0.705882</td>\n",
       "      <td>0.0</td>\n",
       "    </tr>\n",
       "    <tr>\n",
       "      <th>4</th>\n",
       "      <td>1.0</td>\n",
       "      <td>0.0</td>\n",
       "      <td>0.0</td>\n",
       "      <td>1.0</td>\n",
       "      <td>0.0</td>\n",
       "      <td>0.0</td>\n",
       "      <td>0.0</td>\n",
       "      <td>1.0</td>\n",
       "      <td>0.0</td>\n",
       "      <td>1.0</td>\n",
       "      <td>...</td>\n",
       "      <td>0.0</td>\n",
       "      <td>0.0</td>\n",
       "      <td>-0.171139</td>\n",
       "      <td>0.698722</td>\n",
       "      <td>1.666667</td>\n",
       "      <td>1.025974</td>\n",
       "      <td>0.015222</td>\n",
       "      <td>0.000000</td>\n",
       "      <td>1.000000</td>\n",
       "      <td>0.0</td>\n",
       "    </tr>\n",
       "  </tbody>\n",
       "</table>\n",
       "<p>5 rows × 27 columns</p>\n",
       "</div>"
      ],
      "text/plain": [
       "   submission_of_application_not_inst  submission_of_application_to_inst  \\\n",
       "0                                 0.0                                1.0   \n",
       "1                                 0.0                                1.0   \n",
       "2                                 0.0                                1.0   \n",
       "3                                 1.0                                0.0   \n",
       "4                                 1.0                                0.0   \n",
       "\n",
       "   Gender_Female  Gender_Joint  Gender_Male  Gender_Sex Not Available  \\\n",
       "0            0.0           0.0          0.0                       1.0   \n",
       "1            0.0           0.0          1.0                       0.0   \n",
       "2            0.0           0.0          1.0                       0.0   \n",
       "3            0.0           0.0          1.0                       0.0   \n",
       "4            0.0           1.0          0.0                       0.0   \n",
       "\n",
       "   co-applicant_credit_type_CIB  co-applicant_credit_type_EXP  \\\n",
       "0                           1.0                           0.0   \n",
       "1                           0.0                           1.0   \n",
       "2                           1.0                           0.0   \n",
       "3                           1.0                           0.0   \n",
       "4                           0.0                           1.0   \n",
       "\n",
       "   business_or_commercial_b/c  business_or_commercial_nob/c  ...  \\\n",
       "0                         0.0                           1.0  ...   \n",
       "1                         1.0                           0.0  ...   \n",
       "2                         0.0                           1.0  ...   \n",
       "3                         0.0                           1.0  ...   \n",
       "4                         0.0                           1.0  ...   \n",
       "\n",
       "   loan_type_type2  loan_type_type3  Interest_rate_spread       LTV  \\\n",
       "0              0.0              0.0              0.163920  0.984135   \n",
       "1              1.0              0.0              0.906550  0.506653   \n",
       "2              0.0              0.0             -0.330931  0.203719   \n",
       "3              0.0              0.0              0.406686 -0.240224   \n",
       "4              0.0              0.0             -0.171139  0.698722   \n",
       "\n",
       "   loan_amount    income  rate_of_interest     dtir1  property_value  Status  \n",
       "0    -0.750000 -0.857143          0.318501  0.545455       -0.882353     1.0  \n",
       "1    -0.375000 -0.155844         -0.076112  0.419580       -0.556561     1.0  \n",
       "2     0.458333  0.818182          0.867681  0.636364        0.264706     0.0  \n",
       "3     0.666667  1.337662          0.395785  0.272727        0.705882     0.0  \n",
       "4     1.666667  1.025974          0.015222  0.000000        1.000000     0.0  \n",
       "\n",
       "[5 rows x 27 columns]"
      ]
     },
     "execution_count": 13,
     "metadata": {},
     "output_type": "execute_result"
    }
   ],
   "source": [
    "df_enc_scal.head()"
   ]
  },
  {
   "cell_type": "code",
   "execution_count": 14,
   "metadata": {
    "id": "hlkiazuzi1nr"
   },
   "outputs": [],
   "source": [
    "X, y = df_enc_scal.drop('Status', axis=1), df_enc_scal.Status"
   ]
  },
  {
   "cell_type": "code",
   "execution_count": 15,
   "metadata": {
    "id": "L8O20H1ySqFK"
   },
   "outputs": [],
   "source": [
    "X_train, X_test, y_train, y_test = train_test_split(X, y, test_size = 0.2, random_state = 42)"
   ]
  },
  {
   "cell_type": "markdown",
   "metadata": {
    "id": "1jWhkkwFi1nr"
   },
   "source": [
    "# Logistic Regression"
   ]
  },
  {
   "cell_type": "markdown",
   "metadata": {
    "id": "WZRpCVs5i1nr"
   },
   "source": [
    "The GridSearchCV would be used for parameter tuning and cross validation."
   ]
  },
  {
   "cell_type": "markdown",
   "metadata": {
    "id": "EftAjQldi1ns"
   },
   "source": [
    "In the first Logistic Regression model, our focus will be on achieving the highest possible overall score."
   ]
  },
  {
   "cell_type": "code",
   "execution_count": 16,
   "metadata": {
    "colab": {
     "base_uri": "https://localhost:8080/"
    },
    "id": "7W1Xdfs1i1ns",
    "outputId": "a39f8514-20b8-43db-81ff-10ca7a62fc5f"
   },
   "outputs": [
    {
     "name": "stdout",
     "output_type": "stream",
     "text": [
      "Best Parameters: {'C': 0.01, 'class_weight': None, 'penalty': 'l2'}\n",
      "Best Score: 0.8575026161665129\n"
     ]
    }
   ],
   "source": [
    "logistic_model = LogisticRegression(max_iter=500, solver='lbfgs', n_jobs=-1)\n",
    "param_grid_log = {\n",
    "    'C': [0.0001, 0.001, 0.01, 0.1, 1, 10, 100],\n",
    "    'penalty': ['l2',  None],\n",
    "    'class_weight':[None, 'balanced']\n",
    "}\n",
    "grid_search_logistic = GridSearchCV(logistic_model, param_grid_log, cv=5, n_jobs=-1)\n",
    "grid_search_logistic.fit(X_train, y_train)\n",
    "\n",
    "print(\"Best Parameters:\", grid_search_logistic.best_params_)\n",
    "print(\"Best Score:\", grid_search_logistic.best_score_)"
   ]
  },
  {
   "cell_type": "code",
   "execution_count": 17,
   "metadata": {
    "colab": {
     "base_uri": "https://localhost:8080/",
     "height": 564
    },
    "id": "zAznoRmJi1ns",
    "outputId": "cfe2e8a1-3da8-411c-98bc-973a64d76188"
   },
   "outputs": [
    {
     "data": {
      "image/png": "[encoded data removed]",
      "text/plain": [
       "<Figure size 800x600 with 2 Axes>"
      ]
     },
     "metadata": {},
     "output_type": "display_data"
    }
   ],
   "source": [
    "y_pred_log = grid_search_logistic.best_estimator_.predict(X_test)\n",
    "cm_log = confusion_matrix(y_test,y_pred_log)\n",
    "\n",
    "plt.figure(figsize=(8, 6))\n",
    "sns.heatmap(cm_log, annot=True, fmt='d', cmap='Blues')\n",
    "plt.ylabel('Actual')\n",
    "plt.xlabel('Predicted')\n",
    "plt.title('Confusion Matrix')\n",
    "plt.show()"
   ]
  },
  {
   "cell_type": "markdown",
   "metadata": {
    "id": "COUa_5zVi1nt"
   },
   "source": [
    "In the second Logistic Regression model, our primary objective will be to reduce False Negatives, which occur when loans are approved for individuals who ultimately default on repayment. By focusing on minimizing False Negatives, we aim to enhance the model's ability to accurately identify borrowers who may pose a higher risk of default. This strategic approach helps in mitigating financial losses for lenders."
   ]
  },
  {
   "cell_type": "code",
   "execution_count": 18,
   "metadata": {
    "colab": {
     "base_uri": "https://localhost:8080/"
    },
    "id": "kR7FLr3ni1nt",
    "outputId": "ed8e5951-2f01-4b14-d92f-08ce1b308386"
   },
   "outputs": [
    {
     "name": "stdout",
     "output_type": "stream",
     "text": [
      "Best Parameters: {'C': 0.0001, 'class_weight': 'balanced', 'penalty': 'l2'}\n",
      "Best Score: 0.6151158806959559\n"
     ]
    }
   ],
   "source": [
    "logistic_model_rec = LogisticRegression(max_iter=500, solver='lbfgs', n_jobs=-1)\n",
    "param_grid_log_rec = {\n",
    "    'C': [0.0001, 0.001, 0.01, 0.1, 1, 10, 100],\n",
    "    'penalty': ['l2',  None],\n",
    "    'class_weight':[None, 'balanced']\n",
    "}\n",
    "grid_search_logistic_rec = GridSearchCV(logistic_model_rec, param_grid_log_rec, cv=5, n_jobs=-1, scoring='recall')\n",
    "grid_search_logistic_rec.fit(X_train, y_train)\n",
    "\n",
    "print(\"Best Parameters:\", grid_search_logistic_rec.best_params_)\n",
    "print(\"Best Score:\", grid_search_logistic_rec.best_score_)"
   ]
  },
  {
   "cell_type": "code",
   "execution_count": 19,
   "metadata": {
    "colab": {
     "base_uri": "https://localhost:8080/",
     "height": 564
    },
    "id": "lTRoKOBAi1nu",
    "outputId": "f38c4ccf-5ac5-4225-c1c2-6b0d98bd115f"
   },
   "outputs": [
    {
     "data": {
      "image/png": "[encoded data removed]",
      "text/plain": [
       "<Figure size 800x600 with 2 Axes>"
      ]
     },
     "metadata": {},
     "output_type": "display_data"
    }
   ],
   "source": [
    "y_rec_pred = grid_search_logistic_rec.best_estimator_.predict(X_test)\n",
    "cm_log_rec = confusion_matrix(y_test,y_rec_pred)\n",
    "\n",
    "plt.figure(figsize=(8, 6))\n",
    "sns.heatmap(cm_log_rec, annot=True, fmt='d', cmap='Blues')\n",
    "plt.ylabel('Actual')\n",
    "plt.xlabel('Predicted')\n",
    "plt.title('Confusion Matrix')\n",
    "plt.show()"
   ]
  },
  {
   "cell_type": "markdown",
   "metadata": {
    "id": "KGT5tUR4i1nu"
   },
   "source": [
    "The overall accuracy of the second model is lower compared to the first model. However, we achieved a significant reduction in False Negatives and an increase in True Positives."
   ]
  },
  {
   "cell_type": "markdown",
   "metadata": {
    "id": "29epoEbWtVIo"
   },
   "source": [
    "# Decision Tree"
   ]
  },
  {
   "cell_type": "code",
   "execution_count": null,
   "metadata": {
    "colab": {
     "base_uri": "https://localhost:8080/"
    },
    "id": "6pNkJEeutY6z",
    "outputId": "18d28fa9-5e89-45ec-9ca9-66256a47cfc8"
   },
   "outputs": [
    {
     "name": "stdout",
     "output_type": "stream",
     "text": [
      "Fitting 5 folds for each of 1344 candidates, totalling 6720 fits\n",
      "Best Parameters: {'criterion': 'entropy', 'max_depth': 25, 'max_features': None, 'min_samples_leaf': 4, 'min_samples_split': 2, 'splitter': 'best'}\n",
      "Best Score: 0.9954929534553033\n"
     ]
    }
   ],
   "source": [
    "param_grid_tree = {\n",
    "    'criterion': ['gini', 'entropy'],\n",
    "    'max_depth': [5, 8, 10, 15, 25, 35, 40],\n",
    "    'min_samples_split': [2, 3, 5, 8],\n",
    "    'min_samples_leaf': [1, 2, 4, 8],\n",
    "    'max_features': [None, 'sqrt', 'log2'],\n",
    "    'splitter': ['best', 'random']\n",
    "}\n",
    "dec_tree = DecisionTreeClassifier(random_state=14)\n",
    "grid_search_dec_tree = GridSearchCV(estimator=dec_tree, param_grid=param_grid_tree, cv=5, verbose=True, n_jobs=-1)\n",
    "grid_search_dec_tree.fit(X_train, y_train)\n",
    "\n",
    "print(\"Best Parameters:\", grid_search_dec_tree.best_params_)\n",
    "print(\"Best Score:\", grid_search_dec_tree.best_score_)"
   ]
  },
  {
   "cell_type": "code",
   "execution_count": null,
   "metadata": {
    "colab": {
     "base_uri": "https://localhost:8080/",
     "height": 564
    },
    "id": "_bwyi1ORthDh",
    "outputId": "49e4ad58-c164-4032-d6d1-7c132d74eece"
   },
   "outputs": [
    {
     "data": {
      "image/png": "[encoded data removed]",
      "text/plain": [
       "<Figure size 800x600 with 2 Axes>"
      ]
     },
     "metadata": {},
     "output_type": "display_data"
    }
   ],
   "source": [
    "y_tree_pred = grid_search_dec_tree.best_estimator_.predict(X_test)\n",
    "cm_tree = confusion_matrix(y_test,y_tree_pred)\n",
    "\n",
    "plt.figure(figsize=(8, 6))\n",
    "sns.heatmap(cm_tree, annot=True, fmt='d', cmap='Blues')\n",
    "plt.ylabel('Actual')\n",
    "plt.xlabel('Predicted')\n",
    "plt.title('Confusion Matrix')\n",
    "plt.show()"
   ]
  },
  {
   "cell_type": "code",
   "execution_count": null,
   "metadata": {
    "colab": {
     "base_uri": "https://localhost:8080/"
    },
    "id": "_q3N50ZxtnXB",
    "outputId": "08fb45ba-0ccd-4fac-cf76-a019af4c34ca"
   },
   "outputs": [
    {
     "name": "stdout",
     "output_type": "stream",
     "text": [
      "Fitting 5 folds for each of 1344 candidates, totalling 6720 fits\n",
      "Best Parameters: {'criterion': 'entropy', 'max_depth': 25, 'max_features': None, 'min_samples_leaf': 1, 'min_samples_split': 2, 'splitter': 'best'}\n",
      "Best Score: 0.9885970913921824\n"
     ]
    }
   ],
   "source": [
    "dec_tree_rec = DecisionTreeClassifier(random_state=14)\n",
    "grid_search_dec_tree_rec = GridSearchCV(estimator=dec_tree, param_grid=param_grid_tree, cv=5, verbose=True, n_jobs=-1, scoring='recall')\n",
    "grid_search_dec_tree_rec.fit(X_train, y_train)\n",
    "\n",
    "print(\"Best Parameters:\", grid_search_dec_tree_rec.best_params_)\n",
    "print(\"Best Score:\", grid_search_dec_tree_rec.best_score_)"
   ]
  },
  {
   "cell_type": "code",
   "execution_count": null,
   "metadata": {
    "colab": {
     "base_uri": "https://localhost:8080/",
     "height": 564
    },
    "id": "a9YNBT1Kt29J",
    "outputId": "56bf4f73-d92d-4c5d-f809-4aabef93d4cf"
   },
   "outputs": [
    {
     "data": {
      "image/png": "[encoded data removed]",
      "text/plain": [
       "<Figure size 800x600 with 2 Axes>"
      ]
     },
     "metadata": {},
     "output_type": "display_data"
    }
   ],
   "source": [
    "y_tree_rec_pred = grid_search_dec_tree_rec.best_estimator_.predict(X_test)\n",
    "cm_tree_rec = confusion_matrix(y_test,y_tree_rec_pred)\n",
    "\n",
    "plt.figure(figsize=(8, 6))\n",
    "sns.heatmap(cm_tree_rec, annot=True, fmt='d', cmap='Blues')\n",
    "plt.ylabel('Actual')\n",
    "plt.xlabel('Predicted')\n",
    "plt.title('Confusion Matrix')\n",
    "plt.show()"
   ]
  },
  {
   "cell_type": "markdown",
   "metadata": {
    "id": "LZ8FUVq6ZYru"
   },
   "source": [
    "There is no significant difference between models."
   ]
  },
  {
   "cell_type": "markdown",
   "metadata": {
    "id": "-ca1Mgq7i1nu"
   },
   "source": [
    "# XGBoost"
   ]
  },
  {
   "cell_type": "code",
   "execution_count": 27,
   "metadata": {
    "colab": {
     "base_uri": "https://localhost:8080/"
    },
    "id": "OP74na3mi1nv",
    "outputId": "17a430c2-e670-4ef9-bd17-00f8368f49c5"
   },
   "outputs": [
    {
     "name": "stdout",
     "output_type": "stream",
     "text": [
      "Best Parameters: {'learning_rate': 0.1, 'max_depth': 15, 'min_child_weight': 3}\n",
      "Best Score: 0.9790713006217733\n"
     ]
    }
   ],
   "source": [
    "param_grid_xgb = {\n",
    "              'max_depth': [15, 20, 30],\n",
    "              'learning_rate': [0.01, 0.05, 0.1],\n",
    "              'min_child_weight': [1, 3, 5, 7]}\n",
    "\n",
    "xgb_cls = xgb.XGBClassifier(objective='binary:logistic', tree_method=\"gpu_hist\")\n",
    "grid_search_xgb = GridSearchCV(estimator=xgb_cls, param_grid=param_grid_xgb ,cv=5, n_jobs=-1)\n",
    "grid_search_xgb.fit(X_train, y_train)\n",
    "\n",
    "print(\"Best Parameters:\", grid_search_xgb.best_params_)\n",
    "print(\"Best Score:\", grid_search_xgb.best_score_)"
   ]
  },
  {
   "cell_type": "code",
   "execution_count": 28,
   "metadata": {
    "colab": {
     "base_uri": "https://localhost:8080/"
    },
    "id": "aFX45YtfaS9M",
    "outputId": "a1361157-9882-4823-e10a-977da973ad6f"
   },
   "outputs": [
    {
     "name": "stdout",
     "output_type": "stream",
     "text": [
      "Best Parameters: {'learning_rate': 0.1, 'max_depth': 15, 'min_child_weight': 3}\n",
      "Best Score: 0.9790713006217733\n"
     ]
    }
   ],
   "source": [
    "print(\"Best Parameters:\", grid_search_xgb.best_params_)\n",
    "print(\"Best Score:\", grid_search_xgb.best_score_)\n"
   ]
  },
  {
   "cell_type": "code",
   "execution_count": 29,
   "metadata": {
    "colab": {
     "base_uri": "https://localhost:8080/",
     "height": 564
    },
    "id": "sya3oD1Mi1nv",
    "outputId": "b192e170-a7fe-4431-f576-01b7d6b1ce74"
   },
   "outputs": [
    {
     "data": {
      "image/png": "[encoded data removed]",
      "text/plain": [
       "<Figure size 800x600 with 2 Axes>"
      ]
     },
     "metadata": {},
     "output_type": "display_data"
    }
   ],
   "source": [
    "y_xgb_pred = grid_search_xgb.best_estimator_.predict(X_test)\n",
    "cm_xgb = confusion_matrix(y_test,y_xgb_pred)\n",
    "\n",
    "plt.figure(figsize=(8, 6))\n",
    "sns.heatmap(cm_xgb, annot=True, fmt='d', cmap='Blues')\n",
    "plt.ylabel('Actual')\n",
    "plt.xlabel('Predicted')\n",
    "plt.title('Confusion Matrix')\n",
    "plt.show()"
   ]
  },
  {
   "cell_type": "code",
   "execution_count": 34,
   "metadata": {
    "colab": {
     "base_uri": "https://localhost:8080/"
    },
    "id": "AIPvlDUZwyU6",
    "outputId": "6c7ef7e9-c3ef-4803-88a9-2da5e3021447"
   },
   "outputs": [
    {
     "name": "stdout",
     "output_type": "stream",
     "text": [
      "Best Parameters: {'learning_rate': 0.01, 'max_depth': 15, 'min_child_weight': 7, 'scale_pos_weight': 7}\n",
      "Best Score: 0.9606240426237889\n"
     ]
    }
   ],
   "source": [
    "param_grid_xgb_rec = {\n",
    "              'max_depth': [10, 15, 20],\n",
    "              'learning_rate': [0.01, 0.05, 0.1],\n",
    "              'min_child_weight': [1, 3, 5, 7, 9],\n",
    "              'scale_pos_weight': [3, 5, 7] }\n",
    "\n",
    "\n",
    "xgb_cls_rec = xgb.XGBClassifier(objective='binary:logistic', n_jobs=-1, tree_method=\"gpu_hist\")\n",
    "grid_search_xgb_rec = GridSearchCV(estimator=xgb_cls_rec, param_grid=param_grid_xgb_rec, cv=5, n_jobs=-1, scoring='recall')\n",
    "grid_search_xgb_rec.fit(X_train, y_train)\n",
    "\n",
    "print(\"Best Parameters:\", grid_search_xgb_rec.best_params_)\n",
    "print(\"Best Score:\", grid_search_xgb_rec.best_score_)"
   ]
  },
  {
   "cell_type": "code",
   "execution_count": 35,
   "metadata": {
    "colab": {
     "base_uri": "https://localhost:8080/",
     "height": 564
    },
    "id": "UTKa1fsZxC1A",
    "outputId": "6f03aeff-614b-45df-b2dd-17ac51d857a7"
   },
   "outputs": [
    {
     "data": {
      "image/png": "[encoded data removed]",
      "text/plain": [
       "<Figure size 800x600 with 2 Axes>"
      ]
     },
     "metadata": {},
     "output_type": "display_data"
    }
   ],
   "source": [
    "y_xgb_rec_pred = grid_search_xgb_rec.best_estimator_.predict(X_test)\n",
    "cm_xgb_rec = confusion_matrix(y_test,y_xgb_rec_pred)\n",
    "\n",
    "plt.figure(figsize=(8, 6))\n",
    "sns.heatmap(cm_xgb_rec, annot=True, fmt='d', cmap='Blues')\n",
    "plt.ylabel('Actual')\n",
    "plt.xlabel('Predicted')\n",
    "plt.title('Confusion Matrix')\n",
    "plt.show()"
   ]
  },
  {
   "cell_type": "markdown",
   "metadata": {
    "id": "RkZhtMDs_m8J"
   },
   "source": [
    "We focused on reducing false negatives in our XGBoost model to enhance the detection of positive cases, which led to an increase in true positives. This strategic decision resulted in a trade-off with overall accuracy.\n",
    "\n"
   ]
  },
  {
   "cell_type": "markdown",
   "metadata": {},
   "source": [
    "# Random Forest"
   ]
  },
  {
   "cell_type": "code",
   "execution_count": 26,
   "metadata": {},
   "outputs": [
    {
     "name": "stdout",
     "output_type": "stream",
     "text": [
      "Fitting 5 folds for each of 48 candidates, totalling 240 fits\n",
      "Best Parameters: {'criterion': 'entropy', 'max_depth': 30, 'max_features': None, 'min_samples_leaf': 20, 'n_estimators': 30}\n",
      "Best Score: 0.9936345558374727\n"
     ]
    }
   ],
   "source": [
    "param_grid_rfc = {\n",
    "    'n_estimators': [30],\n",
    "    'max_features': [None, 'sqrt'],\n",
    "    'max_depth': [20, 30, 40, None],                      \n",
    "    'min_samples_leaf': [20, 30, 40],\n",
    "    'criterion': ['gini', 'entropy']\n",
    "}\n",
    "\n",
    "rfc = RandomForestClassifier(random_state=42, n_jobs=-1)\n",
    "grid_search_rfc = GridSearchCV(estimator=rfc, param_grid=param_grid_rfc ,cv=5, n_jobs=-1, verbose=2)\n",
    "grid_search_rfc.fit(X_train, y_train)\n",
    "\n",
    "print(\"Best Parameters:\", grid_search_rfc.best_params_)\n",
    "print(\"Best Score:\", grid_search_rfc.best_score_)"
   ]
  },
  {
   "cell_type": "code",
   "execution_count": 27,
   "metadata": {},
   "outputs": [
    {
     "data": {
      "image/png": "[encoded data removed]",
      "text/plain": [
       "<Figure size 800x600 with 2 Axes>"
      ]
     },
     "metadata": {},
     "output_type": "display_data"
    }
   ],
   "source": [
    "y_rfc_pred = grid_search_rfc.best_estimator_.predict(X_test)\n",
    "cm_rfc = confusion_matrix(y_test,y_rfc_pred)\n",
    "\n",
    "plt.figure(figsize=(8, 6))\n",
    "sns.heatmap(cm_rfc, annot=True, fmt='d', cmap='Blues')\n",
    "plt.ylabel('Actual')\n",
    "plt.xlabel('Predicted')\n",
    "plt.title('Confusion Matrix')\n",
    "plt.show()"
   ]
  },
  {
   "cell_type": "code",
   "execution_count": 32,
   "metadata": {},
   "outputs": [
    {
     "name": "stdout",
     "output_type": "stream",
     "text": [
      "Fitting 5 folds for each of 48 candidates, totalling 240 fits\n",
      "Best Parameters: {'criterion': 'entropy', 'max_depth': 30, 'max_features': None, 'min_samples_leaf': 20, 'n_estimators': 30}\n",
      "Best Score: 0.98613838610831\n"
     ]
    }
   ],
   "source": [
    "grid_search_rfc_rec = GridSearchCV(estimator=rfc, param_grid=param_grid_rfc ,cv=5, n_jobs=-1, verbose=2, scoring = 'recall')\n",
    "grid_search_rfc_rec.fit(X_train, y_train)\n",
    "\n",
    "print(\"Best Parameters:\", grid_search_rfc_rec.best_params_)\n",
    "print(\"Best Score:\", grid_search_rfc_rec.best_score_)"
   ]
  },
  {
   "cell_type": "code",
   "execution_count": 34,
   "metadata": {},
   "outputs": [
    {
     "data": {
      "image/png": "[encoded data removed]",
      "text/plain": [
       "<Figure size 800x600 with 2 Axes>"
      ]
     },
     "metadata": {},
     "output_type": "display_data"
    }
   ],
   "source": [
    "y_rfc_rec_pred = grid_search_rfc_rec.best_estimator_.predict(X_test)\n",
    "cm_rfc_rec = confusion_matrix(y_test,y_rfc_rec_pred)\n",
    "\n",
    "plt.figure(figsize=(8, 6))\n",
    "sns.heatmap(cm_rfc_rec, annot=True, fmt='d', cmap='Blues')\n",
    "plt.ylabel('Actual')\n",
    "plt.xlabel('Predicted')\n",
    "plt.title('Confusion Matrix')\n",
    "plt.show()"
   ]
  },
  {
   "cell_type": "markdown",
   "metadata": {
    "id": "TQ4XrrgvAxTY"
   },
   "source": [
    "After evaluation, the Decision Tree model proved most effective in predicting loan defaulters, followed by Random Forest, which outperformed XGBoost and Logistic Regression.\n",
    "\n"
   ]
  },
  {
   "cell_type": "code",
   "execution_count": null,
   "metadata": {},
   "outputs": [],
   "source": []
  }
 ],
 "metadata": {
  "accelerator": "GPU",
  "colab": {
   "gpuType": "T4",
   "provenance": []
  },
  "kernelspec": {
   "display_name": "Python 3 (ipykernel)",
   "language": "python",
   "name": "python3"
  },
  "language_info": {
   "codemirror_mode": {
    "name": "ipython",
    "version": 3
   },
   "file_extension": ".py",
   "mimetype": "text/x-python",
   "name": "python",
   "nbconvert_exporter": "python",
   "pygments_lexer": "ipython3",
   "version": "3.12.4"
  }
 },
 "nbformat": 4,
 "nbformat_minor": 4
}
