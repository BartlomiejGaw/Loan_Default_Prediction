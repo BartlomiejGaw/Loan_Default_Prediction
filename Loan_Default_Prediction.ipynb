{
 "cells": [
  {
   "cell_type": "code",
   "execution_count": 1,
   "metadata": {},
   "outputs": [],
   "source": [
    "import numpy as np\n",
    "import pandas as pd\n",
    "import seaborn as sns\n",
    "import scorecardpy as sc\n",
    "import seaborn as sns\n",
    "import matplotlib.pyplot as plt\n",
    "from sklearn.metrics import confusion_matrix\n",
    "from sklearn.preprocessing import OneHotEncoder, RobustScaler\n",
    "from sklearn.model_selection import train_test_split\n",
    "from sklearn.model_selection import GridSearchCV\n",
    "from sklearn.linear_model import LogisticRegression\n",
    "from sklearn.tree import DecisionTreeClassifier\n",
    "from sklearn.ensemble import RandomForestClassifier\n",
    "from sklearn.neighbors import KNeighborsClassifier"
   ]
  },
  {
   "cell_type": "code",
   "execution_count": 2,
   "metadata": {},
   "outputs": [],
   "source": [
    "df = pd.read_csv('Loan_Default_imputed.csv')"
   ]
  },
  {
   "cell_type": "code",
   "execution_count": 3,
   "metadata": {},
   "outputs": [],
   "source": [
    "df.Status = df.Status.astype(int)"
   ]
  },
  {
   "cell_type": "markdown",
   "metadata": {},
   "source": [
    "Weight of Evidence (WOE) And Information Value (IV) will be used to select features usefull for classification"
   ]
  },
  {
   "cell_type": "code",
   "execution_count": 4,
   "metadata": {},
   "outputs": [],
   "source": [
    "import warnings\n",
    "warnings.filterwarnings('ignore')"
   ]
  },
  {
   "cell_type": "code",
   "execution_count": 5,
   "metadata": {},
   "outputs": [
    {
     "name": "stdout",
     "output_type": "stream",
     "text": [
      "[INFO] creating woe binning ...\n",
      "Binning on 143942 rows and 31 columns in 00:00:25\n"
     ]
    }
   ],
   "source": [
    "bins = sc.woebin(df, y='Status')"
   ]
  },
  {
   "cell_type": "code",
   "execution_count": 6,
   "metadata": {},
   "outputs": [
    {
     "name": "stdout",
     "output_type": "stream",
     "text": [
      "[INFO] converting into woe values ...\n",
      "Woe transformating on 143942 rows and 30 columns in 00:00:15\n"
     ]
    }
   ],
   "source": [
    "df_woe = sc.woebin_ply(df, bins)"
   ]
  },
  {
   "cell_type": "code",
   "execution_count": 7,
   "metadata": {},
   "outputs": [],
   "source": [
    "iv_values = {col: bin_df['total_iv'].iloc[0] for col, bin_df in bins.items()}\n",
    "iv_df = pd.DataFrame(list(iv_values.items()), columns=['Variable', 'IV'])\n"
   ]
  },
  {
   "cell_type": "code",
   "execution_count": 8,
   "metadata": {},
   "outputs": [
    {
     "data": {
      "text/html": [
       "<div>\n",
       "<style scoped>\n",
       "    .dataframe tbody tr th:only-of-type {\n",
       "        vertical-align: middle;\n",
       "    }\n",
       "\n",
       "    .dataframe tbody tr th {\n",
       "        vertical-align: top;\n",
       "    }\n",
       "\n",
       "    .dataframe thead th {\n",
       "        text-align: right;\n",
       "    }\n",
       "</style>\n",
       "<table border=\"1\" class=\"dataframe\">\n",
       "  <thead>\n",
       "    <tr style=\"text-align: right;\">\n",
       "      <th></th>\n",
       "      <th>Variable</th>\n",
       "      <th>IV</th>\n",
       "    </tr>\n",
       "  </thead>\n",
       "  <tbody>\n",
       "    <tr>\n",
       "      <th>23</th>\n",
       "      <td>credit_type</td>\n",
       "      <td>4.657177</td>\n",
       "    </tr>\n",
       "    <tr>\n",
       "      <th>19</th>\n",
       "      <td>rate_of_interest</td>\n",
       "      <td>0.619766</td>\n",
       "    </tr>\n",
       "    <tr>\n",
       "      <th>27</th>\n",
       "      <td>Interest_rate_spread</td>\n",
       "      <td>0.231496</td>\n",
       "    </tr>\n",
       "    <tr>\n",
       "      <th>9</th>\n",
       "      <td>income</td>\n",
       "      <td>0.154297</td>\n",
       "    </tr>\n",
       "    <tr>\n",
       "      <th>13</th>\n",
       "      <td>dtir1</td>\n",
       "      <td>0.141857</td>\n",
       "    </tr>\n",
       "    <tr>\n",
       "      <th>25</th>\n",
       "      <td>co-applicant_credit_type</td>\n",
       "      <td>0.110648</td>\n",
       "    </tr>\n",
       "    <tr>\n",
       "      <th>0</th>\n",
       "      <td>submission_of_application</td>\n",
       "      <td>0.084715</td>\n",
       "    </tr>\n",
       "    <tr>\n",
       "      <th>18</th>\n",
       "      <td>Neg_ammortization</td>\n",
       "      <td>0.083731</td>\n",
       "    </tr>\n",
       "    <tr>\n",
       "      <th>10</th>\n",
       "      <td>LTV</td>\n",
       "      <td>0.062206</td>\n",
       "    </tr>\n",
       "    <tr>\n",
       "      <th>20</th>\n",
       "      <td>loan_amount</td>\n",
       "      <td>0.040660</td>\n",
       "    </tr>\n",
       "    <tr>\n",
       "      <th>24</th>\n",
       "      <td>loan_type</td>\n",
       "      <td>0.040646</td>\n",
       "    </tr>\n",
       "    <tr>\n",
       "      <th>22</th>\n",
       "      <td>business_or_commercial</td>\n",
       "      <td>0.039337</td>\n",
       "    </tr>\n",
       "    <tr>\n",
       "      <th>2</th>\n",
       "      <td>property_value</td>\n",
       "      <td>0.038482</td>\n",
       "    </tr>\n",
       "    <tr>\n",
       "      <th>15</th>\n",
       "      <td>Gender</td>\n",
       "      <td>0.037841</td>\n",
       "    </tr>\n",
       "    <tr>\n",
       "      <th>26</th>\n",
       "      <td>age</td>\n",
       "      <td>0.013509</td>\n",
       "    </tr>\n",
       "    <tr>\n",
       "      <th>8</th>\n",
       "      <td>Region</td>\n",
       "      <td>0.012654</td>\n",
       "    </tr>\n",
       "    <tr>\n",
       "      <th>12</th>\n",
       "      <td>loan_limit</td>\n",
       "      <td>0.011005</td>\n",
       "    </tr>\n",
       "    <tr>\n",
       "      <th>21</th>\n",
       "      <td>term</td>\n",
       "      <td>0.010330</td>\n",
       "    </tr>\n",
       "    <tr>\n",
       "      <th>6</th>\n",
       "      <td>approv_in_adv</td>\n",
       "      <td>0.007002</td>\n",
       "    </tr>\n",
       "    <tr>\n",
       "      <th>28</th>\n",
       "      <td>loan_purpose</td>\n",
       "      <td>0.005465</td>\n",
       "    </tr>\n",
       "    <tr>\n",
       "      <th>1</th>\n",
       "      <td>occupancy_type</td>\n",
       "      <td>0.004477</td>\n",
       "    </tr>\n",
       "    <tr>\n",
       "      <th>16</th>\n",
       "      <td>Credit_Score</td>\n",
       "      <td>0.000549</td>\n",
       "    </tr>\n",
       "    <tr>\n",
       "      <th>14</th>\n",
       "      <td>lump_sum_payment</td>\n",
       "      <td>0.000000</td>\n",
       "    </tr>\n",
       "    <tr>\n",
       "      <th>17</th>\n",
       "      <td>Secured_by</td>\n",
       "      <td>0.000000</td>\n",
       "    </tr>\n",
       "    <tr>\n",
       "      <th>11</th>\n",
       "      <td>interest_only</td>\n",
       "      <td>0.000000</td>\n",
       "    </tr>\n",
       "    <tr>\n",
       "      <th>7</th>\n",
       "      <td>open_credit</td>\n",
       "      <td>0.000000</td>\n",
       "    </tr>\n",
       "    <tr>\n",
       "      <th>5</th>\n",
       "      <td>total_units</td>\n",
       "      <td>0.000000</td>\n",
       "    </tr>\n",
       "    <tr>\n",
       "      <th>4</th>\n",
       "      <td>Credit_Worthiness</td>\n",
       "      <td>0.000000</td>\n",
       "    </tr>\n",
       "    <tr>\n",
       "      <th>3</th>\n",
       "      <td>construction_type</td>\n",
       "      <td>0.000000</td>\n",
       "    </tr>\n",
       "    <tr>\n",
       "      <th>29</th>\n",
       "      <td>Security_Type</td>\n",
       "      <td>0.000000</td>\n",
       "    </tr>\n",
       "  </tbody>\n",
       "</table>\n",
       "</div>"
      ],
      "text/plain": [
       "                     Variable        IV\n",
       "23                credit_type  4.657177\n",
       "19           rate_of_interest  0.619766\n",
       "27       Interest_rate_spread  0.231496\n",
       "9                      income  0.154297\n",
       "13                      dtir1  0.141857\n",
       "25   co-applicant_credit_type  0.110648\n",
       "0   submission_of_application  0.084715\n",
       "18          Neg_ammortization  0.083731\n",
       "10                        LTV  0.062206\n",
       "20                loan_amount  0.040660\n",
       "24                  loan_type  0.040646\n",
       "22     business_or_commercial  0.039337\n",
       "2              property_value  0.038482\n",
       "15                     Gender  0.037841\n",
       "26                        age  0.013509\n",
       "8                      Region  0.012654\n",
       "12                 loan_limit  0.011005\n",
       "21                       term  0.010330\n",
       "6               approv_in_adv  0.007002\n",
       "28               loan_purpose  0.005465\n",
       "1              occupancy_type  0.004477\n",
       "16               Credit_Score  0.000549\n",
       "14           lump_sum_payment  0.000000\n",
       "17                 Secured_by  0.000000\n",
       "11              interest_only  0.000000\n",
       "7                 open_credit  0.000000\n",
       "5                 total_units  0.000000\n",
       "4           Credit_Worthiness  0.000000\n",
       "3           construction_type  0.000000\n",
       "29              Security_Type  0.000000"
      ]
     },
     "execution_count": 8,
     "metadata": {},
     "output_type": "execute_result"
    }
   ],
   "source": [
    "iv_df.sort_values(by='IV', ascending=False)"
   ]
  },
  {
   "cell_type": "code",
   "execution_count": 9,
   "metadata": {},
   "outputs": [],
   "source": [
    "features=iv_df[iv_df['IV']>=0.03]['Variable'].to_list()"
   ]
  },
  {
   "cell_type": "markdown",
   "metadata": {},
   "source": [
    "After calculating IV, we conclude that the features 'business_or_commercial', 'rate_of_interest', 'Gender', 'loan_type', 'income', 'Neg_ammortization', 'dtir1', 'credit_type', 'property_value','Interest_rate_spread', 'LTV', 'loan_amount', 'submission_of_application', 'co-applicant_credit_type', 'Upfront_charges' have sufficient predictive power (IV>=0.03) and would be used to train models."
   ]
  },
  {
   "cell_type": "code",
   "execution_count": 10,
   "metadata": {},
   "outputs": [],
   "source": [
    "features.append('Status')"
   ]
  },
  {
   "cell_type": "code",
   "execution_count": 11,
   "metadata": {},
   "outputs": [
    {
     "data": {
      "text/html": [
       "<div>\n",
       "<style scoped>\n",
       "    .dataframe tbody tr th:only-of-type {\n",
       "        vertical-align: middle;\n",
       "    }\n",
       "\n",
       "    .dataframe tbody tr th {\n",
       "        vertical-align: top;\n",
       "    }\n",
       "\n",
       "    .dataframe thead th {\n",
       "        text-align: right;\n",
       "    }\n",
       "</style>\n",
       "<table border=\"1\" class=\"dataframe\">\n",
       "  <thead>\n",
       "    <tr style=\"text-align: right;\">\n",
       "      <th></th>\n",
       "      <th>submission_of_application</th>\n",
       "      <th>property_value</th>\n",
       "      <th>income</th>\n",
       "      <th>LTV</th>\n",
       "      <th>dtir1</th>\n",
       "      <th>Gender</th>\n",
       "      <th>Neg_ammortization</th>\n",
       "      <th>rate_of_interest</th>\n",
       "      <th>loan_amount</th>\n",
       "      <th>business_or_commercial</th>\n",
       "      <th>credit_type</th>\n",
       "      <th>loan_type</th>\n",
       "      <th>co-applicant_credit_type</th>\n",
       "      <th>Interest_rate_spread</th>\n",
       "      <th>Status</th>\n",
       "    </tr>\n",
       "  </thead>\n",
       "  <tbody>\n",
       "    <tr>\n",
       "      <th>0</th>\n",
       "      <td>to_inst</td>\n",
       "      <td>118000.000000</td>\n",
       "      <td>1740.0</td>\n",
       "      <td>98.728814</td>\n",
       "      <td>45.000000</td>\n",
       "      <td>Sex Not Available</td>\n",
       "      <td>not_neg</td>\n",
       "      <td>4.199231</td>\n",
       "      <td>116500.0</td>\n",
       "      <td>nob/c</td>\n",
       "      <td>EXP</td>\n",
       "      <td>type1</td>\n",
       "      <td>CIB</td>\n",
       "      <td>0.522692</td>\n",
       "      <td>1</td>\n",
       "    </tr>\n",
       "    <tr>\n",
       "      <th>1</th>\n",
       "      <td>to_inst</td>\n",
       "      <td>228769.230769</td>\n",
       "      <td>4980.0</td>\n",
       "      <td>87.282005</td>\n",
       "      <td>43.615385</td>\n",
       "      <td>Male</td>\n",
       "      <td>not_neg</td>\n",
       "      <td>3.940000</td>\n",
       "      <td>206500.0</td>\n",
       "      <td>b/c</td>\n",
       "      <td>EQUI</td>\n",
       "      <td>type2</td>\n",
       "      <td>EXP</td>\n",
       "      <td>1.006962</td>\n",
       "      <td>1</td>\n",
       "    </tr>\n",
       "    <tr>\n",
       "      <th>2</th>\n",
       "      <td>to_inst</td>\n",
       "      <td>508000.000000</td>\n",
       "      <td>9480.0</td>\n",
       "      <td>80.019685</td>\n",
       "      <td>46.000000</td>\n",
       "      <td>Male</td>\n",
       "      <td>neg_amm</td>\n",
       "      <td>4.560000</td>\n",
       "      <td>406500.0</td>\n",
       "      <td>nob/c</td>\n",
       "      <td>EXP</td>\n",
       "      <td>type1</td>\n",
       "      <td>CIB</td>\n",
       "      <td>0.200000</td>\n",
       "      <td>0</td>\n",
       "    </tr>\n",
       "    <tr>\n",
       "      <th>3</th>\n",
       "      <td>not_inst</td>\n",
       "      <td>658000.000000</td>\n",
       "      <td>11880.0</td>\n",
       "      <td>69.376900</td>\n",
       "      <td>42.000000</td>\n",
       "      <td>Male</td>\n",
       "      <td>not_neg</td>\n",
       "      <td>4.250000</td>\n",
       "      <td>456500.0</td>\n",
       "      <td>nob/c</td>\n",
       "      <td>EXP</td>\n",
       "      <td>type1</td>\n",
       "      <td>CIB</td>\n",
       "      <td>0.681000</td>\n",
       "      <td>0</td>\n",
       "    </tr>\n",
       "    <tr>\n",
       "      <th>4</th>\n",
       "      <td>not_inst</td>\n",
       "      <td>758000.000000</td>\n",
       "      <td>10440.0</td>\n",
       "      <td>91.886544</td>\n",
       "      <td>39.000000</td>\n",
       "      <td>Joint</td>\n",
       "      <td>not_neg</td>\n",
       "      <td>4.000000</td>\n",
       "      <td>696500.0</td>\n",
       "      <td>nob/c</td>\n",
       "      <td>CRIF</td>\n",
       "      <td>type1</td>\n",
       "      <td>EXP</td>\n",
       "      <td>0.304200</td>\n",
       "      <td>0</td>\n",
       "    </tr>\n",
       "  </tbody>\n",
       "</table>\n",
       "</div>"
      ],
      "text/plain": [
       "  submission_of_application  property_value   income        LTV      dtir1  \\\n",
       "0                   to_inst   118000.000000   1740.0  98.728814  45.000000   \n",
       "1                   to_inst   228769.230769   4980.0  87.282005  43.615385   \n",
       "2                   to_inst   508000.000000   9480.0  80.019685  46.000000   \n",
       "3                  not_inst   658000.000000  11880.0  69.376900  42.000000   \n",
       "4                  not_inst   758000.000000  10440.0  91.886544  39.000000   \n",
       "\n",
       "              Gender Neg_ammortization  rate_of_interest  loan_amount  \\\n",
       "0  Sex Not Available           not_neg          4.199231     116500.0   \n",
       "1               Male           not_neg          3.940000     206500.0   \n",
       "2               Male           neg_amm          4.560000     406500.0   \n",
       "3               Male           not_neg          4.250000     456500.0   \n",
       "4              Joint           not_neg          4.000000     696500.0   \n",
       "\n",
       "  business_or_commercial credit_type loan_type co-applicant_credit_type  \\\n",
       "0                  nob/c         EXP     type1                      CIB   \n",
       "1                    b/c        EQUI     type2                      EXP   \n",
       "2                  nob/c         EXP     type1                      CIB   \n",
       "3                  nob/c         EXP     type1                      CIB   \n",
       "4                  nob/c        CRIF     type1                      EXP   \n",
       "\n",
       "   Interest_rate_spread  Status  \n",
       "0              0.522692       1  \n",
       "1              1.006962       1  \n",
       "2              0.200000       0  \n",
       "3              0.681000       0  \n",
       "4              0.304200       0  "
      ]
     },
     "execution_count": 11,
     "metadata": {},
     "output_type": "execute_result"
    }
   ],
   "source": [
    "df_learn = df[features]\n",
    "df_learn.head()"
   ]
  },
  {
   "cell_type": "code",
   "execution_count": 12,
   "metadata": {},
   "outputs": [],
   "source": [
    "numerical_columns = df_learn.select_dtypes(include=[np.number]).columns.to_list()\n",
    "categorical_columns = df_learn.select_dtypes(include=['object']).columns.tolist()\n",
    "\n",
    "oh = OneHotEncoder(sparse_output=False, handle_unknown='ignore').set_output(transform='pandas')\n",
    "sc = RobustScaler()\n",
    "encoded = oh.fit_transform(df_learn[categorical_columns])\n",
    "scaled = pd.DataFrame(sc.fit_transform(df_learn[numerical_columns]), columns = numerical_columns)\n",
    "df_enc_scal = pd.concat([encoded, scaled], axis=1)"
   ]
  },
  {
   "cell_type": "code",
   "execution_count": 13,
   "metadata": {},
   "outputs": [
    {
     "data": {
      "text/html": [
       "<div>\n",
       "<style scoped>\n",
       "    .dataframe tbody tr th:only-of-type {\n",
       "        vertical-align: middle;\n",
       "    }\n",
       "\n",
       "    .dataframe tbody tr th {\n",
       "        vertical-align: top;\n",
       "    }\n",
       "\n",
       "    .dataframe thead th {\n",
       "        text-align: right;\n",
       "    }\n",
       "</style>\n",
       "<table border=\"1\" class=\"dataframe\">\n",
       "  <thead>\n",
       "    <tr style=\"text-align: right;\">\n",
       "      <th></th>\n",
       "      <th>submission_of_application_not_inst</th>\n",
       "      <th>submission_of_application_to_inst</th>\n",
       "      <th>Gender_Female</th>\n",
       "      <th>Gender_Joint</th>\n",
       "      <th>Gender_Male</th>\n",
       "      <th>Gender_Sex Not Available</th>\n",
       "      <th>Neg_ammortization_neg_amm</th>\n",
       "      <th>Neg_ammortization_not_neg</th>\n",
       "      <th>business_or_commercial_b/c</th>\n",
       "      <th>business_or_commercial_nob/c</th>\n",
       "      <th>...</th>\n",
       "      <th>co-applicant_credit_type_CIB</th>\n",
       "      <th>co-applicant_credit_type_EXP</th>\n",
       "      <th>property_value</th>\n",
       "      <th>income</th>\n",
       "      <th>LTV</th>\n",
       "      <th>dtir1</th>\n",
       "      <th>rate_of_interest</th>\n",
       "      <th>loan_amount</th>\n",
       "      <th>Interest_rate_spread</th>\n",
       "      <th>Status</th>\n",
       "    </tr>\n",
       "  </thead>\n",
       "  <tbody>\n",
       "    <tr>\n",
       "      <th>0</th>\n",
       "      <td>0.0</td>\n",
       "      <td>1.0</td>\n",
       "      <td>0.0</td>\n",
       "      <td>0.0</td>\n",
       "      <td>0.0</td>\n",
       "      <td>1.0</td>\n",
       "      <td>0.0</td>\n",
       "      <td>1.0</td>\n",
       "      <td>0.0</td>\n",
       "      <td>1.0</td>\n",
       "      <td>...</td>\n",
       "      <td>1.0</td>\n",
       "      <td>0.0</td>\n",
       "      <td>-0.882353</td>\n",
       "      <td>-0.857143</td>\n",
       "      <td>0.984135</td>\n",
       "      <td>0.545455</td>\n",
       "      <td>0.318501</td>\n",
       "      <td>-0.750000</td>\n",
       "      <td>0.163920</td>\n",
       "      <td>1.0</td>\n",
       "    </tr>\n",
       "    <tr>\n",
       "      <th>1</th>\n",
       "      <td>0.0</td>\n",
       "      <td>1.0</td>\n",
       "      <td>0.0</td>\n",
       "      <td>0.0</td>\n",
       "      <td>1.0</td>\n",
       "      <td>0.0</td>\n",
       "      <td>0.0</td>\n",
       "      <td>1.0</td>\n",
       "      <td>1.0</td>\n",
       "      <td>0.0</td>\n",
       "      <td>...</td>\n",
       "      <td>0.0</td>\n",
       "      <td>1.0</td>\n",
       "      <td>-0.556561</td>\n",
       "      <td>-0.155844</td>\n",
       "      <td>0.506653</td>\n",
       "      <td>0.419580</td>\n",
       "      <td>-0.076112</td>\n",
       "      <td>-0.375000</td>\n",
       "      <td>0.906550</td>\n",
       "      <td>1.0</td>\n",
       "    </tr>\n",
       "    <tr>\n",
       "      <th>2</th>\n",
       "      <td>0.0</td>\n",
       "      <td>1.0</td>\n",
       "      <td>0.0</td>\n",
       "      <td>0.0</td>\n",
       "      <td>1.0</td>\n",
       "      <td>0.0</td>\n",
       "      <td>1.0</td>\n",
       "      <td>0.0</td>\n",
       "      <td>0.0</td>\n",
       "      <td>1.0</td>\n",
       "      <td>...</td>\n",
       "      <td>1.0</td>\n",
       "      <td>0.0</td>\n",
       "      <td>0.264706</td>\n",
       "      <td>0.818182</td>\n",
       "      <td>0.203719</td>\n",
       "      <td>0.636364</td>\n",
       "      <td>0.867681</td>\n",
       "      <td>0.458333</td>\n",
       "      <td>-0.330931</td>\n",
       "      <td>0.0</td>\n",
       "    </tr>\n",
       "    <tr>\n",
       "      <th>3</th>\n",
       "      <td>1.0</td>\n",
       "      <td>0.0</td>\n",
       "      <td>0.0</td>\n",
       "      <td>0.0</td>\n",
       "      <td>1.0</td>\n",
       "      <td>0.0</td>\n",
       "      <td>0.0</td>\n",
       "      <td>1.0</td>\n",
       "      <td>0.0</td>\n",
       "      <td>1.0</td>\n",
       "      <td>...</td>\n",
       "      <td>1.0</td>\n",
       "      <td>0.0</td>\n",
       "      <td>0.705882</td>\n",
       "      <td>1.337662</td>\n",
       "      <td>-0.240224</td>\n",
       "      <td>0.272727</td>\n",
       "      <td>0.395785</td>\n",
       "      <td>0.666667</td>\n",
       "      <td>0.406686</td>\n",
       "      <td>0.0</td>\n",
       "    </tr>\n",
       "    <tr>\n",
       "      <th>4</th>\n",
       "      <td>1.0</td>\n",
       "      <td>0.0</td>\n",
       "      <td>0.0</td>\n",
       "      <td>1.0</td>\n",
       "      <td>0.0</td>\n",
       "      <td>0.0</td>\n",
       "      <td>0.0</td>\n",
       "      <td>1.0</td>\n",
       "      <td>0.0</td>\n",
       "      <td>1.0</td>\n",
       "      <td>...</td>\n",
       "      <td>0.0</td>\n",
       "      <td>1.0</td>\n",
       "      <td>1.000000</td>\n",
       "      <td>1.025974</td>\n",
       "      <td>0.698722</td>\n",
       "      <td>0.000000</td>\n",
       "      <td>0.015222</td>\n",
       "      <td>1.666667</td>\n",
       "      <td>-0.171139</td>\n",
       "      <td>0.0</td>\n",
       "    </tr>\n",
       "  </tbody>\n",
       "</table>\n",
       "<p>5 rows × 27 columns</p>\n",
       "</div>"
      ],
      "text/plain": [
       "   submission_of_application_not_inst  submission_of_application_to_inst  \\\n",
       "0                                 0.0                                1.0   \n",
       "1                                 0.0                                1.0   \n",
       "2                                 0.0                                1.0   \n",
       "3                                 1.0                                0.0   \n",
       "4                                 1.0                                0.0   \n",
       "\n",
       "   Gender_Female  Gender_Joint  Gender_Male  Gender_Sex Not Available  \\\n",
       "0            0.0           0.0          0.0                       1.0   \n",
       "1            0.0           0.0          1.0                       0.0   \n",
       "2            0.0           0.0          1.0                       0.0   \n",
       "3            0.0           0.0          1.0                       0.0   \n",
       "4            0.0           1.0          0.0                       0.0   \n",
       "\n",
       "   Neg_ammortization_neg_amm  Neg_ammortization_not_neg  \\\n",
       "0                        0.0                        1.0   \n",
       "1                        0.0                        1.0   \n",
       "2                        1.0                        0.0   \n",
       "3                        0.0                        1.0   \n",
       "4                        0.0                        1.0   \n",
       "\n",
       "   business_or_commercial_b/c  business_or_commercial_nob/c  ...  \\\n",
       "0                         0.0                           1.0  ...   \n",
       "1                         1.0                           0.0  ...   \n",
       "2                         0.0                           1.0  ...   \n",
       "3                         0.0                           1.0  ...   \n",
       "4                         0.0                           1.0  ...   \n",
       "\n",
       "   co-applicant_credit_type_CIB  co-applicant_credit_type_EXP  property_value  \\\n",
       "0                           1.0                           0.0       -0.882353   \n",
       "1                           0.0                           1.0       -0.556561   \n",
       "2                           1.0                           0.0        0.264706   \n",
       "3                           1.0                           0.0        0.705882   \n",
       "4                           0.0                           1.0        1.000000   \n",
       "\n",
       "     income       LTV     dtir1  rate_of_interest  loan_amount  \\\n",
       "0 -0.857143  0.984135  0.545455          0.318501    -0.750000   \n",
       "1 -0.155844  0.506653  0.419580         -0.076112    -0.375000   \n",
       "2  0.818182  0.203719  0.636364          0.867681     0.458333   \n",
       "3  1.337662 -0.240224  0.272727          0.395785     0.666667   \n",
       "4  1.025974  0.698722  0.000000          0.015222     1.666667   \n",
       "\n",
       "   Interest_rate_spread  Status  \n",
       "0              0.163920     1.0  \n",
       "1              0.906550     1.0  \n",
       "2             -0.330931     0.0  \n",
       "3              0.406686     0.0  \n",
       "4             -0.171139     0.0  \n",
       "\n",
       "[5 rows x 27 columns]"
      ]
     },
     "execution_count": 13,
     "metadata": {},
     "output_type": "execute_result"
    }
   ],
   "source": [
    "df_enc_scal.head()"
   ]
  },
  {
   "cell_type": "code",
   "execution_count": 14,
   "metadata": {},
   "outputs": [],
   "source": [
    "X, y = df_enc_scal.drop('Status', axis=1), df_enc_scal.Status\n",
    "X_train, X_test, y_train, y_test = train_test_split(X, y, test_size = 0.2, random_state = 42)"
   ]
  },
  {
   "cell_type": "markdown",
   "metadata": {},
   "source": [
    "# Logistic Regression"
   ]
  },
  {
   "cell_type": "markdown",
   "metadata": {},
   "source": [
    "The GridSearchCV would be used for parameter tuning and cross validation."
   ]
  },
  {
   "cell_type": "markdown",
   "metadata": {},
   "source": [
    "In the first Logistic Regression model, our focus will be on achieving the highest possible overall score."
   ]
  },
  {
   "cell_type": "code",
   "execution_count": 15,
   "metadata": {},
   "outputs": [
    {
     "name": "stdout",
     "output_type": "stream",
     "text": [
      "Best Parameters: {'C': 0.01, 'class_weight': None, 'penalty': 'l2'}\n",
      "Best Score: 0.8575026161665129\n"
     ]
    }
   ],
   "source": [
    "logistic_model = LogisticRegression(max_iter=500, solver='lbfgs', n_jobs=-1)\n",
    "param_grid_log = {\n",
    "    'C': [0.0001, 0.001, 0.01, 0.1, 1, 10, 100],\n",
    "    'penalty': ['l2',  None],\n",
    "    'class_weight':[None, 'balanced']\n",
    "}\n",
    "grid_search_logistic = GridSearchCV(logistic_model, param_grid_log, cv=5, n_jobs=-1)\n",
    "grid_search_logistic.fit(X_train, y_train)\n",
    "\n",
    "print(\"Best Parameters:\", grid_search_logistic.best_params_)\n",
    "print(\"Best Score:\", grid_search_logistic.best_score_)"
   ]
  },
  {
   "cell_type": "code",
   "execution_count": 16,
   "metadata": {},
   "outputs": [
    {
     "data": {
      "image/png": "[encoded data removed]",
      "text/plain": [
       "<Figure size 800x600 with 2 Axes>"
      ]
     },
     "metadata": {},
     "output_type": "display_data"
    }
   ],
   "source": [
    "y_pred_log = grid_search_logistic.best_estimator_.predict(X_test)\n",
    "cm_log = confusion_matrix(y_test,y_pred_log)\n",
    "\n",
    "plt.figure(figsize=(8, 6))\n",
    "sns.heatmap(cm_log, annot=True, fmt='d', cmap='Blues')\n",
    "plt.ylabel('Actual')\n",
    "plt.xlabel('Predicted')\n",
    "plt.title('Confusion Matrix')\n",
    "plt.show()"
   ]
  },
  {
   "cell_type": "markdown",
   "metadata": {},
   "source": [
    "In the second Logistic Regression model, our primary objective will be to reduce False Negatives, which occur when loans are approved for individuals who ultimately default on repayment. By focusing on minimizing False Negatives, we aim to enhance the model's ability to accurately identify borrowers who may pose a higher risk of default. This strategic approach helps in mitigating financial losses for lenders."
   ]
  },
  {
   "cell_type": "code",
   "execution_count": 17,
   "metadata": {},
   "outputs": [
    {
     "name": "stdout",
     "output_type": "stream",
     "text": [
      "Best Parameters: {'C': 0.0001, 'class_weight': 'balanced', 'penalty': 'l2'}\n",
      "Best Score: 0.6151158806959559\n"
     ]
    }
   ],
   "source": [
    "logistic_model_rec = LogisticRegression(max_iter=500, solver='lbfgs', n_jobs=-1)\n",
    "param_grid_log_rec = {\n",
    "    'C': [0.0001, 0.001, 0.01, 0.1, 1, 10, 100],\n",
    "    'penalty': ['l2',  None],\n",
    "    'class_weight':[None, 'balanced']\n",
    "}\n",
    "grid_search_logistic_rec = GridSearchCV(logistic_model_rec, param_grid_log_rec, cv=5, n_jobs=-1, scoring='recall')\n",
    "grid_search_logistic_rec.fit(X_train, y_train)\n",
    "\n",
    "print(\"Best Parameters:\", grid_search_logistic_rec.best_params_)\n",
    "print(\"Best Score:\", grid_search_logistic_rec.best_score_)"
   ]
  },
  {
   "cell_type": "code",
   "execution_count": 18,
   "metadata": {},
   "outputs": [
    {
     "data": {
      "image/png": "[encoded data removed]",
      "text/plain": [
       "<Figure size 800x600 with 2 Axes>"
      ]
     },
     "metadata": {},
     "output_type": "display_data"
    }
   ],
   "source": [
    "y_rec_pred = grid_search_logistic_rec.best_estimator_.predict(X_test)\n",
    "cm_log_rec = confusion_matrix(y_test,y_rec_pred)\n",
    "\n",
    "plt.figure(figsize=(8, 6))\n",
    "sns.heatmap(cm_log_rec, annot=True, fmt='d', cmap='Blues')\n",
    "plt.ylabel('Actual')\n",
    "plt.xlabel('Predicted')\n",
    "plt.title('Confusion Matrix')\n",
    "plt.show()"
   ]
  },
  {
   "cell_type": "markdown",
   "metadata": {},
   "source": [
    "The overall accuracy of the second model is lower compared to the first model. However, we achieved a significant reduction in False Negatives and an increase in True Positives."
   ]
  },
  {
   "cell_type": "markdown",
   "metadata": {},
   "source": [
    "# SVM"
   ]
  },
  {
   "cell_type": "code",
   "execution_count": 21,
   "metadata": {},
   "outputs": [
    {
     "name": "stdout",
     "output_type": "stream",
     "text": [
      "Defaulting to user installation because normal site-packages is not writeable\n",
      "Requirement already satisfied: scikit-learn-intelex in c:\\users\\bartek\\appdata\\local\\packages\\pythonsoftwarefoundation.python.3.12_qbz5n2kfra8p0\\localcache\\local-packages\\python312\\site-packages (2024.5.0)\n",
      "Requirement already satisfied: daal4py==2024.5.0 in c:\\users\\bartek\\appdata\\local\\packages\\pythonsoftwarefoundation.python.3.12_qbz5n2kfra8p0\\localcache\\local-packages\\python312\\site-packages (from scikit-learn-intelex) (2024.5.0)\n",
      "Requirement already satisfied: scikit-learn>=0.22 in c:\\users\\bartek\\appdata\\local\\packages\\pythonsoftwarefoundation.python.3.12_qbz5n2kfra8p0\\localcache\\local-packages\\python312\\site-packages (from scikit-learn-intelex) (1.4.1.post1)\n",
      "Requirement already satisfied: daal==2024.5.0 in c:\\users\\bartek\\appdata\\local\\packages\\pythonsoftwarefoundation.python.3.12_qbz5n2kfra8p0\\localcache\\local-packages\\python312\\site-packages (from daal4py==2024.5.0->scikit-learn-intelex) (2024.5.0)\n",
      "Requirement already satisfied: numpy>=1.19 in c:\\users\\bartek\\appdata\\local\\packages\\pythonsoftwarefoundation.python.3.12_qbz5n2kfra8p0\\localcache\\local-packages\\python312\\site-packages (from daal4py==2024.5.0->scikit-learn-intelex) (1.26.4)\n",
      "Requirement already satisfied: tbb==2021.* in c:\\users\\bartek\\appdata\\local\\packages\\pythonsoftwarefoundation.python.3.12_qbz5n2kfra8p0\\localcache\\local-packages\\python312\\site-packages (from daal==2024.5.0->daal4py==2024.5.0->scikit-learn-intelex) (2021.13.0)\n",
      "Requirement already satisfied: scipy>=1.6.0 in c:\\users\\bartek\\appdata\\local\\packages\\pythonsoftwarefoundation.python.3.12_qbz5n2kfra8p0\\localcache\\local-packages\\python312\\site-packages (from scikit-learn>=0.22->scikit-learn-intelex) (1.12.0)\n",
      "Requirement already satisfied: joblib>=1.2.0 in c:\\users\\bartek\\appdata\\local\\packages\\pythonsoftwarefoundation.python.3.12_qbz5n2kfra8p0\\localcache\\local-packages\\python312\\site-packages (from scikit-learn>=0.22->scikit-learn-intelex) (1.3.2)\n",
      "Requirement already satisfied: threadpoolctl>=2.0.0 in c:\\users\\bartek\\appdata\\local\\packages\\pythonsoftwarefoundation.python.3.12_qbz5n2kfra8p0\\localcache\\local-packages\\python312\\site-packages (from scikit-learn>=0.22->scikit-learn-intelex) (3.4.0)\n",
      "Note: you may need to restart the kernel to use updated packages.\n"
     ]
    },
    {
     "name": "stderr",
     "output_type": "stream",
     "text": [
      "\n",
      "[notice] A new release of pip is available: 24.0 -> 24.1.1\n",
      "[notice] To update, run: C:\\Users\\Bartek\\AppData\\Local\\Microsoft\\WindowsApps\\PythonSoftwareFoundation.Python.3.12_qbz5n2kfra8p0\\python.exe -m pip install --upgrade pip\n"
     ]
    }
   ],
   "source": [
    "pip install scikit-learn-intelex"
   ]
  },
  {
   "cell_type": "code",
   "execution_count": 2,
   "metadata": {},
   "outputs": [
    {
     "ename": "ModuleNotFoundError",
     "evalue": "No module named 'sklearnex'",
     "output_type": "error",
     "traceback": [
      "\u001b[1;31m---------------------------------------------------------------------------\u001b[0m",
      "\u001b[1;31mModuleNotFoundError\u001b[0m                       Traceback (most recent call last)",
      "Cell \u001b[1;32mIn[2], line 1\u001b[0m\n\u001b[1;32m----> 1\u001b[0m \u001b[38;5;28;01mimport\u001b[39;00m \u001b[38;5;21;01msklearnex\u001b[39;00m\n\u001b[0;32m      2\u001b[0m \u001b[38;5;28;01mfrom\u001b[39;00m \u001b[38;5;21;01msklearnex\u001b[39;00m \u001b[38;5;28;01mimport\u001b[39;00m patch_sklearn\n\u001b[0;32m      3\u001b[0m patch_sklearn()\n",
      "\u001b[1;31mModuleNotFoundError\u001b[0m: No module named 'sklearnex'"
     ]
    }
   ],
   "source": [
    "import sklearnex\n",
    "from sklearnex import patch_sklearn\n",
    "patch_sklearn()\n",
    "from sklearn.svm import SVC\n",
    "\n",
    "svm_model = SVC()\n",
    "\n",
    "param_grid_svm = {\n",
    "    'C': [0.0001, 0.001, 0.01, 0.1, 1, 10, 100],\n",
    "    'kernel': ['rbf'],\n",
    "    'gamma': [0.0001, 0.001, 0.01, 0.1, 1, 'scale', 'auto'],\n",
    "    'class_weight': [None, 'balanced']\n",
    "}\n",
    "\n",
    "grid_search_svm = GridSearchCV(svm_model, param_grid_svm, cv=5, n_jobs=-1)\n",
    "grid_search_svm.fit(X, y)\n",
    "\n",
    "print(\"Best Parameters:\", grid_search_svm.best_params_)\n",
    "print(\"Best Score:\", grid_search_svm.best_score_)"
   ]
  },
  {
   "cell_type": "code",
   "execution_count": null,
   "metadata": {},
   "outputs": [],
   "source": [
    "y_svm_pred = grid_search_svm.best_estimator_.predict(X)\n",
    "cm_log_rec = confusion_matrix(y,y_svm_pred)\n",
    "\n",
    "plt.figure(figsize=(8, 6))\n",
    "sns.heatmap(cm_log_rec, annot=True, fmt='d', cmap='Blues')\n",
    "plt.ylabel('Actual')\n",
    "plt.xlabel('Predicted')\n",
    "plt.title('Confusion Matrix')\n",
    "plt.show()"
   ]
  }
 ],
 "metadata": {
  "kernelspec": {
   "display_name": "Python 3 (ipykernel)",
   "language": "python",
   "name": "python3"
  },
  "language_info": {
   "codemirror_mode": {
    "name": "ipython",
    "version": 3
   },
   "file_extension": ".py",
   "mimetype": "text/x-python",
   "name": "python",
   "nbconvert_exporter": "python",
   "pygments_lexer": "ipython3",
   "version": "3.12.3"
  }
 },
 "nbformat": 4,
 "nbformat_minor": 4
}
